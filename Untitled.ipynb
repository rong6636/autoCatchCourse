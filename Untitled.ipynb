{
 "cells": [
  {
   "cell_type": "code",
   "execution_count": 2,
   "metadata": {},
   "outputs": [],
   "source": [
    "import requests\n",
    "from bs4 import BeautifulSoup\n",
    "from selenium import webdriver\n",
    "from selenium.webdriver.common.action_chains import ActionChains\n",
    "from selenium.webdriver.common.keys import Keys\n",
    "from webdriver_manager.chrome import ChromeDriverManager\n",
    "import time"
   ]
  },
  {
   "cell_type": "code",
   "execution_count": null,
   "metadata": {},
   "outputs": [],
   "source": []
  },
  {
   "cell_type": "code",
   "execution_count": 24,
   "metadata": {},
   "outputs": [
    {
     "name": "stderr",
     "output_type": "stream",
     "text": [
      "[WDM] - ====== WebDriver manager ======\n",
      "[WDM] - Current google-chrome version is 93.0.4577\n",
      "[WDM] - Get LATEST driver version for 93.0.4577\n",
      "[WDM] - Driver [C:\\Users\\zmast\\.wdm\\drivers\\chromedriver\\win32\\93.0.4577.63\\chromedriver.exe] found in cache\n"
     ]
    },
    {
     "name": "stdout",
     "output_type": "stream",
     "text": [
      "\n",
      "\n"
     ]
    },
    {
     "name": "stderr",
     "output_type": "stream",
     "text": [
      "<ipython-input-23-263275b7c2e2>:73: DeprecationWarning: use driver.switch_to.alert instead\n",
      "  alert = driver.switch_to_alert()\n"
     ]
    },
    {
     "name": "stdout",
     "output_type": "stream",
     "text": [
      "Message: no such alert\n",
      "  (Session info: chrome=93.0.4577.82)\n",
      "\n",
      "Message: element click intercepted: Element <input type=\"button\" id=\"cmdQueryCur\" value=\"查詢\" onclick=\"QueryCurData();\" class=\"blue_M\" style=\"cursor: pointer;\"> is not clickable at point (929, 189). Other element would receive the click: <td style=\"margin:0 auto;vertical-align:middle;\">...</td>\n",
      "  (Session info: chrome=93.0.4577.82)\n",
      "\n",
      "Alert Text: Err:錯誤代碼：12\\n您選的課程與[系統程式]衝堂(103,2)！\n",
      "Message: unexpected alert open: {Alert text : Err:錯誤代碼：12\\n您選的課程與[系統程式]衝堂(103,2)！}\n",
      "  (Session info: chrome=93.0.4577.82)\n",
      "\n",
      "Message: no such alert\n",
      "  (Session info: chrome=93.0.4577.82)\n",
      "\n",
      "Message: element click intercepted: Element <input type=\"button\" id=\"cmdQueryCur\" value=\"查詢\" onclick=\"QueryCurData();\" class=\"blue_M\" style=\"cursor: pointer;\"> is not clickable at point (929, 189). Other element would receive the click: <td style=\"margin:0 auto;vertical-align:middle;\">...</td>\n",
      "  (Session info: chrome=93.0.4577.82)\n",
      "\n",
      "Alert Text: Err:錯誤代碼：12\\n您選的課程與[音樂話中西]衝堂(506,9)！\n",
      "Message: unexpected alert open: {Alert text : Err:錯誤代碼：12\\n您選的課程與[音樂話中西]衝堂(506,9)！}\n",
      "  (Session info: chrome=93.0.4577.82)\n",
      "\n"
     ]
    },
    {
     "ename": "KeyboardInterrupt",
     "evalue": "",
     "output_type": "error",
     "traceback": [
      "\u001b[1;31m---------------------------------------------------------------------------\u001b[0m",
      "\u001b[1;31mKeyboardInterrupt\u001b[0m                         Traceback (most recent call last)",
      "\u001b[1;32m<ipython-input-24-7efc58a2d1ed>\u001b[0m in \u001b[0;36m<module>\u001b[1;34m\u001b[0m\n\u001b[0;32m     19\u001b[0m \u001b[1;32mwhile\u001b[0m \u001b[1;33m(\u001b[0m\u001b[1;32mTrue\u001b[0m\u001b[1;33m)\u001b[0m\u001b[1;33m:\u001b[0m\u001b[1;33m\u001b[0m\u001b[1;33m\u001b[0m\u001b[0m\n\u001b[0;32m     20\u001b[0m     \u001b[0msearchCoures\u001b[0m\u001b[1;33m(\u001b[0m\u001b[1;33m)\u001b[0m\u001b[1;33m\u001b[0m\u001b[1;33m\u001b[0m\u001b[0m\n\u001b[1;32m---> 21\u001b[1;33m     \u001b[0mtime\u001b[0m\u001b[1;33m.\u001b[0m\u001b[0msleep\u001b[0m\u001b[1;33m(\u001b[0m\u001b[1;36m10\u001b[0m\u001b[1;33m)\u001b[0m\u001b[1;33m\u001b[0m\u001b[1;33m\u001b[0m\u001b[0m\n\u001b[0m",
      "\u001b[1;31mKeyboardInterrupt\u001b[0m: "
     ]
    }
   ],
   "source": [
    "driver = webdriver.Chrome(ChromeDriverManager().install())\n",
    "driver.implicitly_wait(20) \n",
    "url = 'https://ecsb.ntcu.edu.tw/'\n",
    "account = '%%%%帳號%%%%'\n",
    "password = '%%%%密碼%%%%'\n",
    "driver.get(url)\n",
    "\n",
    "u = driver.find_element_by_id('User_Account')\n",
    "u.send_keys(account)\n",
    "p = driver.find_element_by_id('User_Password')\n",
    "p.send_keys(password)\n",
    "c = driver.find_element_by_id('Check_Code_Img')\n",
    "l = driver.find_element_by_id('Client_Login')\n",
    "time.sleep(5)\n",
    "l.click()\n",
    "time.sleep(2)\n",
    "driver.get('https://ecsb.ntcu.edu.tw/STDWEB/SelChoose/SelChooseMain.aspx')\n",
    "time.sleep(2)\n",
    "while (True):\n",
    "    searchCoures()\n",
    "    time.sleep(10)\n"
   ]
  },
  {
   "cell_type": "code",
   "execution_count": 23,
   "metadata": {},
   "outputs": [],
   "source": [
    "def searchCoures():\n",
    "    course = {\n",
    "        \"ACS00000\":{\n",
    "            \"name\" : \"視覺藝術與社會\",\n",
    "        },\n",
    "        \"#這裡是課程代號#\":{\n",
    "            \"內文是蝦集八寫的\":\"反正要什麼就照這格式\"\n",
    "        },\n",
    "        \"#這裡是課程代號#\":{\n",
    "            \"內文是蝦集八寫的\":\"反正要什麼就照這格式\"\n",
    "        },\n",
    "        \"#這裡是課程代號#\":{\n",
    "            \"內文是蝦集八寫的\":\"反正要什麼就照這格式\"\n",
    "        },\n",
    "    }\n",
    "    \n",
    "    Inquire = driver.find_element_by_id('cmdInquire')\n",
    "    Inquire.click()\n",
    "    for c in course:\n",
    "        try:\n",
    "            txtCosID = driver.find_element_by_id('txtCosID')\n",
    "            txtCosID.clear()\n",
    "            txtCosID.send_keys(c)\n",
    "            cmdQC = driver.find_element_by_id('cmdQueryCur')\n",
    "            cmdQC.click()\n",
    "            time.sleep(2)\n",
    "            addCourses = driver.find_elements_by_xpath(\"//input[@value='加選']\")\n",
    "            for a in addCourses:\n",
    "                a.click()\n",
    "                time.sleep(0.5)\n",
    "                alert = driver.switch_to_alert()\n",
    "                alert.accept()\n",
    "                time.sleep(0.2)\n",
    "        except Exception as e:\n",
    "            print (e)"
   ]
  },
  {
   "cell_type": "code",
   "execution_count": null,
   "metadata": {},
   "outputs": [],
   "source": []
  },
  {
   "cell_type": "code",
   "execution_count": null,
   "metadata": {},
   "outputs": [],
   "source": []
  }
 ],
 "metadata": {
  "kernelspec": {
   "display_name": "Python 3",
   "language": "python",
   "name": "python3"
  },
  "language_info": {
   "codemirror_mode": {
    "name": "ipython",
    "version": 3
   },
   "file_extension": ".py",
   "mimetype": "text/x-python",
   "name": "python",
   "nbconvert_exporter": "python",
   "pygments_lexer": "ipython3",
   "version": "3.8.5"
  }
 },
 "nbformat": 4,
 "nbformat_minor": 4
}
