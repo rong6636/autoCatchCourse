{
 "cells": [
  {
   "cell_type": "code",
   "execution_count": null,
   "metadata": {},
   "outputs": [],
   "source": [
    "import requests\n",
    "from bs4 import BeautifulSoup\n",
    "from selenium import webdriver\n",
    "from selenium.webdriver.common.action_chains import ActionChains\n",
    "from selenium.webdriver.common.keys import Keys\n",
    "from webdriver_manager.chrome import ChromeDriverManager\n",
    "import time"
   ]
  },
  {
   "cell_type": "code",
   "execution_count": null,
   "metadata": {},
   "outputs": [],
   "source": [
    "def catchCoures(count):\n",
    "    # 這裡放你的課程代號們\n",
    "    course = [\"這裡放你的課程代號\", \"這裡放你的課程代號\"]\n",
    "    \n",
    "    driver.get('https://ecsb.ntcu.edu.tw/STDWEB/SelChoose/SelChooseMain.aspx')\n",
    "    time.sleep(3)\n",
    "    Inquire = driver.find_element_by_id('cmdInquire')\n",
    "    Inquire.click()\n",
    "    for c in range (len(course)):\n",
    "        update_bar(\"第 \"+str(count)+\"次 抓取\", c+1, len(course))\n",
    "        try:\n",
    "            txtCosID = driver.find_element_by_id('txtCosID')\n",
    "            txtCosID.clear()\n",
    "            txtCosID.send_keys(course[c])\n",
    "            cmdQC = driver.find_element_by_id('cmdQueryCur')\n",
    "            cmdQC.click()\n",
    "            time.sleep(2)\n",
    "            addCourses = driver.find_elements_by_xpath(\"//input[@value='加選']\")\n",
    "            for a in addCourses:\n",
    "                a.click()\n",
    "                time.sleep(0.5)\n",
    "                alert = driver.switch_to_alert()\n",
    "                alert.accept()\n",
    "                time.sleep(0.2)\n",
    "        except Exception as e:\n",
    "            print (e)"
   ]
  },
  {
   "cell_type": "code",
   "execution_count": null,
   "metadata": {},
   "outputs": [],
   "source": [
    "def update_bar(title, temp, total):\n",
    "    print('\\r' + '['+title+']:[%s%s] %s(%.2f%%)' % ('█' * int(temp/total*20), ' ' * (20-int(temp/total*20)), str(temp)+'/'+str(total), float(temp/total*100)), end='')"
   ]
  },
  {
   "cell_type": "code",
   "execution_count": null,
   "metadata": {},
   "outputs": [],
   "source": [
    "driver = webdriver.Chrome(ChromeDriverManager().install())\n",
    "driver.implicitly_wait(20) \n",
    "url = 'https://ecsb.ntcu.edu.tw/'\n",
    "# 帳號 密碼\n",
    "account =  input(\"你的帳號：\")\n",
    "password = input(\"你的密碼：\")\n",
    "driver.get(url)\n",
    "\n",
    "u = driver.find_element_by_id('User_Account')\n",
    "u.send_keys(account)\n",
    "p = driver.find_element_by_id('User_Password')\n",
    "p.send_keys(password)\n",
    "c = driver.find_element_by_id('Check_Code')\n",
    "Check_Code = input(\"輸入驗證碼：\")\n",
    "c.send_keys(Check_Code)\n",
    "l = driver.find_element_by_id('Client_Login')\n",
    "l.click()\n",
    "time.sleep(3)\n",
    "\n",
    "count = 0\n",
    "while (True):\n",
    "    count+=1\n",
    "    update_bar(\"第 \"+str(count)+\"次 抓取\", 1, 1)\n",
    "    catchCoures(count)\n",
    "    for i in range(10):\n",
    "        update_bar(\"抓取完成 CD 10秒\", i+1, 10)\n",
    "        time.sleep(1)"
   ]
  },
  {
   "cell_type": "code",
   "execution_count": null,
   "metadata": {},
   "outputs": [],
   "source": []
  },
  {
   "cell_type": "code",
   "execution_count": null,
   "metadata": {},
   "outputs": [],
   "source": []
  },
  {
   "cell_type": "code",
   "execution_count": null,
   "metadata": {},
   "outputs": [],
   "source": []
  },
  {
   "cell_type": "code",
   "execution_count": null,
   "metadata": {},
   "outputs": [],
   "source": []
  },
  {
   "cell_type": "code",
   "execution_count": null,
   "metadata": {},
   "outputs": [],
   "source": []
  }
 ],
 "metadata": {
  "kernelspec": {
   "display_name": "Python 3",
   "language": "python",
   "name": "python3"
  },
  "language_info": {
   "codemirror_mode": {
    "name": "ipython",
    "version": 3
   },
   "file_extension": ".py",
   "mimetype": "text/x-python",
   "name": "python",
   "nbconvert_exporter": "python",
   "pygments_lexer": "ipython3",
   "version": "3.8.5"
  }
 },
 "nbformat": 4,
 "nbformat_minor": 4
}
